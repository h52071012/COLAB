{
  "nbformat": 4,
  "nbformat_minor": 0,
  "metadata": {
    "colab": {
      "name": "3.2",
      "provenance": [],
      "authorship_tag": "ABX9TyM7/tZ+Aqv+iFOoGK3xBk0c",
      "include_colab_link": true
    },
    "kernelspec": {
      "name": "python3",
      "display_name": "Python 3"
    }
  },
  "cells": [
    {
      "cell_type": "markdown",
      "metadata": {
        "id": "view-in-github",
        "colab_type": "text"
      },
      "source": [
        "<a href=\"https://colab.research.google.com/github/h52071012/COLAB/blob/master/3_2.ipynb\" target=\"_parent\"><img src=\"https://colab.research.google.com/assets/colab-badge.svg\" alt=\"Open In Colab\"/></a>"
      ]
    },
    {
      "cell_type": "code",
      "metadata": {
        "id": "BltZ8daxO3GJ",
        "colab_type": "code",
        "outputId": "ea8d125c-cc3b-436b-99bf-84abd4dcd05c",
        "colab": {
          "base_uri": "https://localhost:8080/",
          "height": 170
        }
      },
      "source": [
        "!pip install lineTool"
      ],
      "execution_count": 0,
      "outputs": [
        {
          "output_type": "stream",
          "text": [
            "Collecting lineTool\n",
            "  Downloading https://files.pythonhosted.org/packages/7a/29/7e96eef82de56d045e0016bbd7b7a41f597444ee0c7a38b0a5cdc6034a16/lineTool-1.0.3.tar.gz\n",
            "Building wheels for collected packages: lineTool\n",
            "  Building wheel for lineTool (setup.py) ... \u001b[?25l\u001b[?25hdone\n",
            "  Created wheel for lineTool: filename=lineTool-1.0.3-cp36-none-any.whl size=1465 sha256=9bbe079ee6d9cd2ae7e91d570b889807d42daec9238fa520f02ac9bd9b94ab95\n",
            "  Stored in directory: /root/.cache/pip/wheels/65/ea/38/262d4b0f2edb028985f5a8b3914efd33119311e166f1e490f4\n",
            "Successfully built lineTool\n",
            "Installing collected packages: lineTool\n",
            "Successfully installed lineTool-1.0.3\n"
          ],
          "name": "stdout"
        }
      ]
    },
    {
      "cell_type": "code",
      "metadata": {
        "id": "FeqwvKslO77E",
        "colab_type": "code",
        "colab": {}
      },
      "source": [
        "import lineTool\n",
        "\n",
        "token=\"FgDP6lsiXYdR7zwxDdl3mQr4IPvFRtIsYhRLwMqvPch\"\n",
        "\n",
        "def linePush(msg):\n",
        "    lineTool.lineNotify(token, msg)"
      ],
      "execution_count": 0,
      "outputs": []
    },
    {
      "cell_type": "code",
      "metadata": {
        "id": "SdpH71c_PZnt",
        "colab_type": "code",
        "colab": {}
      },
      "source": [
        "linePush(787878787878 )\n",
        "\n"
      ],
      "execution_count": 0,
      "outputs": []
    }
  ]
}